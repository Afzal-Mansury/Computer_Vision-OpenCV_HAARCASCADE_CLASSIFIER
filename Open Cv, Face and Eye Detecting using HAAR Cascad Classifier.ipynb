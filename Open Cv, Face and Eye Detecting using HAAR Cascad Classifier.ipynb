{
 "cells": [
  {
   "cell_type": "markdown",
   "metadata": {},
   "source": [
    "# Face and Eye Detection using HAAR Cascade Classifier"
   ]
  },
  {
   "cell_type": "code",
   "execution_count": 2,
   "metadata": {},
   "outputs": [],
   "source": [
    "# importing Librarries\n",
    "import numpy as np\n",
    "import cv2"
   ]
  },
  {
   "cell_type": "code",
   "execution_count": 3,
   "metadata": {},
   "outputs": [],
   "source": [
    "# We point OpenCv's CascasdeClassifier function to where my classifier\n",
    "# (xml file is stored)"
   ]
  },
  {
   "cell_type": "code",
   "execution_count": 20,
   "metadata": {},
   "outputs": [],
   "source": [
    "# using face classifier\n",
    "# To detect face only\n",
    "face_classifier = cv2.CascadeClassifier(\"Desktop\\CNN\\Haarcascades\\haarcascade_frontalface_default.xml\")\n",
    "\n",
    "# Load my image then converting it to Grayscale\n",
    "image = cv2.imread(\"Desktop\\CNN\\msd.jpg\") # reading MS Dhoni image from my directory\n",
    "\n",
    "# After reading image converting RGB to gray scale\n",
    "# Usually OpenCv reads RGB image stored in Blue , Green and Red Channel\n",
    "# Need to convert to gray channel because it easy to process and quicker\n",
    "gray = cv2.cvtColor(image,cv2.COLOR_BGR2GRAY)\n",
    "\n",
    "# My classifier returns the ROI of the detected face as a tuple\n",
    "# It stores the top left coordinate and the bottom right coordinate\n",
    "# \"Detect Multi Scale\" function locate the location of face.\n",
    "faces = face_classifier.detectMultiScale(gray,1.3,5)\n",
    "\n",
    "# When no faces detected , face classifier will returns an empty tuple\n",
    "if faces is ():\n",
    "    print(\"No Face found\")\n",
    "    \n",
    "# We iterate through our faces array and draw a rectangle\n",
    "# over each face in faces\n",
    "# Below for loop will give 4 value \n",
    "# x and y coordinate\n",
    "# w and h is width and height of face\n",
    "# \n",
    "for (x,y,w,h) in faces: # reading coordinate from faces\n",
    "    cv2.rectangle(image, (x,y),(x+w,y+h), (127,0,255),2) #Drawing rectaangle on top of face\n",
    "    cv2.imshow(\"Face detection\", image)                  # (127,0,255) this is the color over the face \n",
    "    cv2.waitKey()\n",
    "    \n",
    "cv2.destroyAllWindows()"
   ]
  },
  {
   "cell_type": "markdown",
   "metadata": {},
   "source": [
    "# Part 2 :: Detecting face and Eye Both"
   ]
  },
  {
   "cell_type": "code",
   "execution_count": 26,
   "metadata": {},
   "outputs": [],
   "source": [
    "face_classifier = cv2.CascadeClassifier(\"Desktop\\CNN\\Haarcascades\\haarcascade_frontalface_default.xml\")\n",
    "eye_classifier = cv2.CascadeClassifier(\"Desktop\\CNN\\Haarcascades\\haarcascade_eye.xml\")\n",
    "\n",
    "img = cv2.imread(\"Desktop\\CNN\\msd2.jpg\")\n",
    "gray = cv2.cvtColor(img,cv2.COLOR_BGR2GRAY)\n",
    "\n",
    "faces = face_classifier.detectMultiScale(gray,1.3,5)\n",
    "\n",
    "# When no face detected , face classifier returns an empty tuple\n",
    "if faces is():\n",
    "    print(\"No Face Found\")\n",
    "    \n",
    "for (x,y,w,h) in faces:\n",
    "    cv2.rectangle(img, (x,y),(x+w,y+h),(127,0,255),2)\n",
    "    cv2.imshow(\"img\",img)\n",
    "    cv2.waitKey()\n",
    "    roi_gray = gray[y:y+h, x:x+w]\n",
    "    roi_color = img[y:y+h, x:x+w]\n",
    "    eyes = eye_classifier.detectMultiScale(roi_gray)\n",
    "    for (ex,ey,ew,eh) in eyes:\n",
    "        cv2.rectangle(roi_color,(ex,ey),(ex+ew,ey+eh),(255,255,0),2)\n",
    "        cv2.imshow(\"img\",img)\n",
    "        cv2.waitKey()\n",
    "        \n",
    "cv2.destroyAllWindows()"
   ]
  },
  {
   "cell_type": "code",
   "execution_count": null,
   "metadata": {},
   "outputs": [],
   "source": []
  },
  {
   "cell_type": "code",
   "execution_count": null,
   "metadata": {},
   "outputs": [],
   "source": []
  }
 ],
 "metadata": {
  "kernelspec": {
   "display_name": "Python 3",
   "language": "python",
   "name": "python3"
  },
  "language_info": {
   "codemirror_mode": {
    "name": "ipython",
    "version": 3
   },
   "file_extension": ".py",
   "mimetype": "text/x-python",
   "name": "python",
   "nbconvert_exporter": "python",
   "pygments_lexer": "ipython3",
   "version": "3.7.4"
  }
 },
 "nbformat": 4,
 "nbformat_minor": 2
}
