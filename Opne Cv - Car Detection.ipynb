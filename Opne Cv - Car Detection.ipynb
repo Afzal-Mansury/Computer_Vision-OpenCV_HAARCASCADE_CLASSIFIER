{
 "cells": [
  {
   "cell_type": "markdown",
   "metadata": {},
   "source": [
    "# Moving car detection using Open Cv and HAAr Cascade classifier"
   ]
  },
  {
   "cell_type": "code",
   "execution_count": 9,
   "metadata": {},
   "outputs": [],
   "source": [
    "# importing Libraries\n",
    "import cv2\n",
    "import time\n",
    "import numpy as np\n",
    "\n",
    "#Creating car classifier\n",
    "car_classifier = cv2.CascadeClassifier(\"Desktop\\CNN\\Haarcascades\\haarcascade_car.xml\")\n",
    "\n",
    "# Initiate video capture for video file\n",
    "cap = cv2.VideoCapture(\"Desktop\\CNN\\Car.mp4\")\n",
    "\n",
    "# Loop once video is succesfully loaded\n",
    "while cap.isOpened():\n",
    "    \n",
    "    \n",
    "    time.sleep(0.05)    #Speed up video for 5 second\n",
    "    # Read first frame\n",
    "    ret, frame = cap.read()\n",
    "    # frame = cv2.resize(frame, None, fx=0.5, fy=0.5, interpolation = cv2.INTER_LINEAR)\n",
    "    \n",
    "    gray = cv2.cvtColor(frame, cv2.COLOR_BGR2GRAY)\n",
    "    # Pass frame to our body classifier\n",
    "    cars = car_classifier.detectMultiScale(gray, 1.2,3)\n",
    "    \n",
    "    # Extract bounding boxes for any bodies identified\n",
    "    for (x,y,w,h) in cars:\n",
    "        cv2.rectangle(frame, (x,y), (x+w, y+h), (0,255,255),2)\n",
    "        cv2.imshow(\"Cars\", frame)\n",
    "        \n",
    "    if cv2.waitKey(1) & 0xFF == ord(\"q\"):\n",
    "        break\n",
    "        \n",
    "cap.release()\n",
    "cv2.destroyAllWindows()"
   ]
  },
  {
   "cell_type": "code",
   "execution_count": null,
   "metadata": {},
   "outputs": [],
   "source": []
  }
 ],
 "metadata": {
  "kernelspec": {
   "display_name": "Python 3",
   "language": "python",
   "name": "python3"
  },
  "language_info": {
   "codemirror_mode": {
    "name": "ipython",
    "version": 3
   },
   "file_extension": ".py",
   "mimetype": "text/x-python",
   "name": "python",
   "nbconvert_exporter": "python",
   "pygments_lexer": "ipython3",
   "version": "3.7.4"
  }
 },
 "nbformat": 4,
 "nbformat_minor": 2
}
