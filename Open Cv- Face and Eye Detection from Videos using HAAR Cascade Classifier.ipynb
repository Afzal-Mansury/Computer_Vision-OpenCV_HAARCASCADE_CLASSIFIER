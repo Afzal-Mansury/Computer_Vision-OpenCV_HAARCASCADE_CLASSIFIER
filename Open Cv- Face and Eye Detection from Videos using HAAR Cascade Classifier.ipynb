{
 "cells": [
  {
   "cell_type": "markdown",
   "metadata": {},
   "source": [
    "# Face and Eye Detection from videos"
   ]
  },
  {
   "cell_type": "code",
   "execution_count": 2,
   "metadata": {},
   "outputs": [],
   "source": [
    "# Importing Library\n",
    "import cv2\n",
    "\n",
    "# Loading HAAR Cascade classifier for detection face and Eye from live Video\n",
    "face_cascade = cv2.CascadeClassifier(\"Desktop\\CNN\\Haarcascades\\haarcascade_frontalface_default.xml\")\n",
    "eye_cascade = cv2.CascadeClassifier(\"Desktop\\CNN\\Haarcascades\\haarcascade_eye.xml\")\n",
    "\n",
    "# Defining function for detecting face and eye\n",
    "# creating frame for face and eye \n",
    "# converting RGB to Gray for quicker processing\n",
    "def detect(gray, frame):\n",
    "    faces =  face_cascade.detectMultiScale(gray,1.3,5)\n",
    "    for (x,y,w,h) in faces:                                # For different coordinate\n",
    "        cv2.rectangle(frame, (x,y),(x+w,y+h),(255,0,0),2)  # Creating rectangle over the face\n",
    "        roi_gray = gray[y:y+h, x:x+w]                      # Croped particular face\n",
    "        roi_color = frame[y:y+h, x:x+w]             # cropped particular frame on that I will apllied eye cascade classifier\n",
    "        eyes = eye_cascade.detectMultiScale(roi_gray, 1.1,3)\n",
    "        for (ex, ey, ew, eh) in eyes:\n",
    "            cv2.rectangle(roi_color, (ex,ey), (ex+ew , ey+eh), (0,255,0),2)\n",
    "    return frame\n",
    "\n",
    "# Below function is used for detecting face and eye from live video\n",
    "video_capture = cv2.VideoCapture(0) # In built library for starting webcam and 0 for in built camera\n",
    "while True:\n",
    "    _,frame = video_capture.read()\n",
    "    gray = cv2.cvtColor(frame, cv2.COLOR_BGR2GRAY)  # Converting frame into Gray \n",
    "    canvas = detect(gray,frame)                     #\n",
    "    cv2.imshow(\"Video\", canvas)\n",
    "    if cv2.waitKey(1) & 0xFF == ord(\"q\"):          # Unless untill I press enter or q it will continue\n",
    "        break\n",
    "video_capture.release()\n",
    "cv2.destroyAllWindows()\n",
    "    "
   ]
  },
  {
   "cell_type": "code",
   "execution_count": null,
   "metadata": {},
   "outputs": [],
   "source": []
  }
 ],
 "metadata": {
  "kernelspec": {
   "display_name": "Python 3",
   "language": "python",
   "name": "python3"
  },
  "language_info": {
   "codemirror_mode": {
    "name": "ipython",
    "version": 3
   },
   "file_extension": ".py",
   "mimetype": "text/x-python",
   "name": "python",
   "nbconvert_exporter": "python",
   "pygments_lexer": "ipython3",
   "version": "3.7.4"
  }
 },
 "nbformat": 4,
 "nbformat_minor": 2
}
